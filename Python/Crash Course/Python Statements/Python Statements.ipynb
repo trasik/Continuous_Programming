{
 "cells": [
  {
   "cell_type": "markdown",
   "metadata": {},
   "source": [
    "# Control Flow with Condition Statements\n",
    "- Basic definition some condition => some action\n",
    "- Keywords for conditions:\n",
    "    - if\n",
    "    - elif\n",
    "    - else\n",
    "- Syntax: Colon with indentation \n",
    "    <br /> if some_condition: <br />\n",
    "        &nbsp;&nbsp;&nbsp;&nbsp; # execute some code\n",
    "    \n",
    "    <br /> if some_condition: <br />\n",
    "        &nbsp;&nbsp;&nbsp;&nbsp; # execute some code\n",
    "    <br /> else: <br/>\n",
    "        &nbsp;&nbsp;&nbsp;&nbsp; # do something else\n",
    "\n",
    "    <br /> if some_condition: <br />\n",
    "        &nbsp;&nbsp;&nbsp;&nbsp; # execute some code\n",
    "    <br /> elif: <br/>\n",
    "        &nbsp;&nbsp;&nbsp;&nbsp; # do something different\n",
    "    <br /> else: <br/>\n",
    "        &nbsp;&nbsp;&nbsp;&nbsp; # do something else\n"
   ]
  },
  {
   "cell_type": "code",
   "execution_count": 1,
   "metadata": {},
   "outputs": [
    {
     "name": "stdout",
     "output_type": "stream",
     "text": [
      "It's true\n"
     ]
    }
   ],
   "source": [
    "if True:\n",
    "    print(\"It's true\")"
   ]
  },
  {
   "cell_type": "code",
   "execution_count": 6,
   "metadata": {},
   "outputs": [
    {
     "name": "stdout",
     "output_type": "stream",
     "text": [
      "NOT HUNGRY :)\n"
     ]
    }
   ],
   "source": [
    "hungry = False\n",
    "\n",
    "if hungry:\n",
    "    print(\"FEED ME!\")\n",
    "else:\n",
    "    print(\"NOT HUNGRY :)\")"
   ]
  },
  {
   "cell_type": "code",
   "execution_count": 11,
   "metadata": {},
   "outputs": [
    {
     "name": "stdout",
     "output_type": "stream",
     "text": [
      "Cars are cool\n"
     ]
    }
   ],
   "source": [
    "loc = 'Auto Shop'\n",
    "\n",
    "if loc == 'Auto Shop':\n",
    "    print(\"Cars are cool\")\n",
    "elif loc == 'Bank':\n",
    "    print(\"Money is cool!\")\n",
    "elif loc == 'Store':\n",
    "    print(\"Welcome to the store!\")\n",
    "else:\n",
    "    print(\"I don't know much.\")"
   ]
  },
  {
   "cell_type": "code",
   "execution_count": 15,
   "metadata": {},
   "outputs": [
    {
     "name": "stdout",
     "output_type": "stream",
     "text": [
      "Hello Torendra!\n"
     ]
    }
   ],
   "source": [
    "name = 'Torendra'\n",
    "\n",
    "if name == 'Frankie':\n",
    "    print(\"Hello Frankie!\")\n",
    "elif name == 'Torendra':\n",
    "    print(\"Hello Torendra!\")\n",
    "else:\n",
    "    print(\"What is your name?\")"
   ]
  },
  {
   "cell_type": "markdown",
   "metadata": {},
   "source": [
    "# For Loops"
   ]
  }
 ],
 "metadata": {
  "kernelspec": {
   "display_name": "Python 3",
   "language": "python",
   "name": "python3"
  },
  "language_info": {
   "codemirror_mode": {
    "name": "ipython",
    "version": 3
   },
   "file_extension": ".py",
   "mimetype": "text/x-python",
   "name": "python",
   "nbconvert_exporter": "python",
   "pygments_lexer": "ipython3",
   "version": "3.13.0"
  }
 },
 "nbformat": 4,
 "nbformat_minor": 2
}
